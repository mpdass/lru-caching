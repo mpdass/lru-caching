{
 "cells": [
  {
   "cell_type": "markdown",
   "metadata": {},
   "source": [
    "### DSC Challenge - Section-1"
   ]
  },
  {
   "cell_type": "code",
   "execution_count": null,
   "metadata": {},
   "outputs": [],
   "source": [
    "import numpy as np\n",
    "import pandas as pd\n",
    "import seaborn as sns\n",
    "from scipy import stats\n",
    "\n",
    "%matplotlib inline"
   ]
  },
  {
   "cell_type": "markdown",
   "metadata": {},
   "source": [
    "#### Load NYPD Motor Vehicle Collisions Data"
   ]
  },
  {
   "cell_type": "code",
   "execution_count": null,
   "metadata": {},
   "outputs": [],
   "source": [
    "mvc_data = pd.read_csv('NYPD_Motor_Vehicle_Collisions.csv', low_memory=False)\n",
    "mvc_data.head()"
   ]
  },
  {
   "cell_type": "markdown",
   "metadata": {},
   "source": [
    "#### Get DF for 2016 period and compute injuries and deaths for persons, pedestrians, cyclists, and motorists"
   ]
  },
  {
   "cell_type": "code",
   "execution_count": null,
   "metadata": {},
   "outputs": [],
   "source": [
    "# Output loaded data rows and columns for information\n",
    "print (\"mvc_data.shape - (rows, columns): {0}\".format(mvc_data.shape))\n",
    "# Get total incidents reported in 2016 from the loaded data\n",
    "totalIncidentsIn2016 = mvc_data[(mvc_data['DATE'].apply(lambda d: d[6:] == '2016'))]\n",
    "print (\"totalIncidentsIn2016.shape - (rows, columns): {0}\".format(totalIncidentsIn2016.shape))\n",
    "# Total Persons injured or killed in 2016\n",
    "tpinjAndkld = sum((totalIncidentsIn2016['NUMBER OF PERSONS INJURED']>0) | (totalIncidentsIn2016['NUMBER OF PERSONS KILLED']>0))\n",
    "# Total Cyclist injuries or dealth in 2016\n",
    "tcinjAndkld = sum((totalIncidentsIn2016['NUMBER OF CYCLIST INJURED']>0) | (totalIncidentsIn2016['NUMBER OF CYCLIST KILLED']>0))\n",
    "# Total Pedestrians injured and killed in 2016\n",
    "tpdinjAndkld = sum((totalIncidentsIn2016['NUMBER OF PEDESTRIANS INJURED']>0) | (totalIncidentsIn2016['NUMBER OF PEDESTRIANS KILLED']>0))\n",
    "# Total Motorists injured and killed in 2016\n",
    "tminjAndkld = sum((totalIncidentsIn2016['NUMBER OF MOTORIST INJURED']>0) | (totalIncidentsIn2016['NUMBER OF MOTORIST KILLED']>0))\n",
    "print (\"totalIncidentsIn2016 / persons - injured and killed: {0}\".format(tpinjAndkld))\n",
    "print (\"totalIncidentsIn2016 / cyclist - injured and killed: {0}\".format(tcinjAndkld))\n",
    "print (\"totalIncidentsIn2016 / pedestrians - injured and killed: {0}\".format(tpdinjAndkld))\n",
    "print (\"totalIncidentsIn2016 / motorist - injured and killed: {0}\".format(tminjAndkld))\n",
    "print()"
   ]
  },
  {
   "cell_type": "code",
   "execution_count": null,
   "metadata": {},
   "outputs": [],
   "source": [
    "incReportedIn2016 = totalIncidentsIn2016['DATE'].count()\n",
    "tinjAndKld = tpinjAndkld + tcinjAndkld + tpdinjAndkld + tminjAndkld\n",
    "print (\"total incidents in 2016: {0}; total injured or killed: {1}; cyclist injured and killed: {2}\".format(incReportedIn2016, tinjAndKld, tcinjAndkld))"
   ]
  },
  {
   "cell_type": "markdown",
   "metadata": {},
   "source": [
    "#### Proportion of cyclist injured or died in 2016 collision"
   ]
  },
  {
   "cell_type": "code",
   "execution_count": null,
   "metadata": {},
   "outputs": [],
   "source": [
    "propcycInjRkldWrtTotinjRkld = tcinjAndkld / tinjAndKld\n",
    "propinjRkld = tcinjAndkld/incReportedIn2016\n",
    "print (\"Proportion of cyclist injured or killed in 2016 collisions wrt total injured or killed: {:.10f}\".format(propcycInjRkldWrtTotinjRkld))\n",
    "print (\"Proportion of cyclist injured or killed in 2016 collisions: {:.10f}\".format(propinjRkld))"
   ]
  },
  {
   "cell_type": "markdown",
   "metadata": {},
   "source": [
    "#### Identify Vehicles involved in each collision in 2016"
   ]
  },
  {
   "cell_type": "code",
   "execution_count": null,
   "metadata": {},
   "outputs": [],
   "source": [
    "vehiclesAndZipCodeIn2016 = totalIncidentsIn2016[['ZIP CODE', 'VEHICLE TYPE CODE 1', 'VEHICLE TYPE CODE 2', 'VEHICLE TYPE CODE 3', 'VEHICLE TYPE CODE 4', 'VEHICLE TYPE CODE 5']]\n",
    "byZipCode = vehiclesAndZipCodeIn2016.groupby(['ZIP CODE']).count()\n",
    "maxInZip = byZipCode.sum(axis='columns').max()\n",
    "print (\"Maximum number of vehicles: {0}\".format(maxInZip))"
   ]
  },
  {
   "cell_type": "markdown",
   "metadata": {},
   "source": [
    "#### Compute Total Number of collisions (2013-2018)"
   ]
  },
  {
   "cell_type": "code",
   "execution_count": null,
   "metadata": {},
   "outputs": [],
   "source": [
    "# Collect collision data for the years: 2013, 2014, 2015, 2016, 2017, and 2018\n",
    "totalIncidentsIn2013 = mvc_data[(mvc_data['DATE'].apply(lambda d: d[6:] == '2013'))]\n",
    "print (\"Collision counts for 2013: {0}\".format(len(totalIncidentsIn2013.index)))\n",
    "totalIncidentsIn2014 = mvc_data[(mvc_data['DATE'].apply(lambda d: d[6:] == '2014'))]\n",
    "print (\"Collision counts for 2014: {0}\".format(len(totalIncidentsIn2014.index)))\n",
    "totalIncidentsIn2015 = mvc_data[(mvc_data['DATE'].apply(lambda d: d[6:] == '2015'))]\n",
    "totalIncidentsIn2016 = mvc_data[(mvc_data['DATE'].apply(lambda d: d[6:] == '2016'))]\n",
    "totalIncidentsIn2017 = mvc_data[(mvc_data['DATE'].apply(lambda d: d[6:] == '2017'))]\n",
    "totalIncidentsIn2018 = mvc_data[(mvc_data['DATE'].apply(lambda d: d[6:] == '2018'))]\n",
    "# Create dataframes with year and number of collisions\n",
    "labels = ['Year', 'Collisions']\n",
    "collisions = [(2013, len(totalIncidentsIn2013.index)), (2014, len(totalIncidentsIn2014.index)),\n",
    "              (2015, len(totalIncidentsIn2015.index)), (2016, len(totalIncidentsIn2016.index)),\n",
    "              (2017, len(totalIncidentsIn2017.index)), (2018, len(totalIncidentsIn2018.index))]\n",
    "collisionsDF = pd.DataFrame.from_records(collisions, columns=labels)\n",
    "\n",
    "sns.regplot(x='Year', y='Collisions', data=collisionsDF)\n",
    "\n",
    "slope, intercept, r_value, p_value, std_err = stats.linregress(collisionsDF['Year'], collisionsDF['Collisions'])\n",
    "print (\"Slope of the linear regression: {:.10f}; intercept: {:.5f}; r_value: {:.5f}; p_value: {:.5f}\".format(slope, intercept, r_value, p_value))"
   ]
  },
  {
   "cell_type": "code",
   "execution_count": null,
   "metadata": {},
   "outputs": [],
   "source": []
  }
 ],
 "metadata": {
  "kernelspec": {
   "display_name": "Python 3",
   "language": "python",
   "name": "python3"
  },
  "language_info": {
   "codemirror_mode": {
    "name": "ipython",
    "version": 3
   },
   "file_extension": ".py",
   "mimetype": "text/x-python",
   "name": "python",
   "nbconvert_exporter": "python",
   "pygments_lexer": "ipython3",
   "version": "3.7.1"
  }
 },
 "nbformat": 4,
 "nbformat_minor": 2
}
